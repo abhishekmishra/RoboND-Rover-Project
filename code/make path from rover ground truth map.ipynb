{
 "cells": [
  {
   "cell_type": "code",
   "execution_count": 165,
   "metadata": {
    "collapsed": true,
    "outputExpanded": false
   },
   "outputs": [],
   "source": [
    "%matplotlib inline\n",
    "#%matplotlib qt # Choose %matplotlib qt to plot to an interactive window (note it may show up behind your browser)\n",
    "# Make some of the relevant imports\n",
    "import cv2 # OpenCV for perspective transform\n",
    "import numpy as np\n",
    "import matplotlib.image as mpimg\n",
    "import matplotlib.pyplot as plt\n",
    "import scipy.misc # For saving images as needed\n",
    "import glob  # For reading in a list of images from a folder"
   ]
  },
  {
   "cell_type": "code",
   "execution_count": 166,
   "metadata": {
    "collapsed": true
   },
   "outputs": [],
   "source": [
    "# Read in ground truth map and create a 3-channel image with it\n",
    "ground_truth = mpimg.imread('../calibration_images/map_bw.png')\n",
    "ground_truth_3d = np.dstack((ground_truth*0, ground_truth*255, ground_truth*0)).astype(np.float)\n",
    "mp = ground_truth"
   ]
  },
  {
   "cell_type": "code",
   "execution_count": 167,
   "metadata": {},
   "outputs": [
    {
     "data": {
      "text/plain": [
       "<matplotlib.image.AxesImage at 0x24337a1b978>"
      ]
     },
     "execution_count": 167,
     "metadata": {},
     "output_type": "execute_result"
    },
    {
     "data": {
      "image/png": "[encoded data removed]",
      "text/plain": [
       "<matplotlib.figure.Figure at 0x242924852e8>"
      ]
     },
     "metadata": {},
     "output_type": "display_data"
    }
   ],
   "source": [
    "plt.imshow(mp)"
   ]
  },
  {
   "cell_type": "code",
   "execution_count": 168,
   "metadata": {},
   "outputs": [
    {
     "data": {
      "text/plain": [
       "(200, 200)"
      ]
     },
     "execution_count": 168,
     "metadata": {},
     "output_type": "execute_result"
    }
   ],
   "source": [
    "mp.shape"
   ]
  },
  {
   "cell_type": "code",
   "execution_count": 169,
   "metadata": {},
   "outputs": [
    {
     "name": "stdout",
     "output_type": "stream",
     "text": [
      "(191, 103)\n"
     ]
    }
   ],
   "source": [
    "#min x which is unblocked\n",
    "def get_min_x_unblocked(mp):\n",
    "    for i in range(199, -1, -1):\n",
    "        for j in range(199, -1, -1):\n",
    "            if mp[i, j] > 0.0:\n",
    "                return i, j\n",
    "lowest_ub = get_min_x_unblocked(mp)\n",
    "print(lowest_ub)"
   ]
  },
  {
   "cell_type": "code",
   "execution_count": 170,
   "metadata": {},
   "outputs": [
    {
     "data": {
      "text/plain": [
       "True"
      ]
     },
     "execution_count": 170,
     "metadata": {},
     "output_type": "execute_result"
    }
   ],
   "source": [
    "def is_on_border(mp, pos):\n",
    "    for di in range(-1, 2):\n",
    "        for dj in range(-1, 2):\n",
    "            if mp[pos[0] + di, pos[1] + dj] == 0.0:\n",
    "                return True\n",
    "    return False\n",
    "is_on_border(mp, lowest_ub)"
   ]
  },
  {
   "cell_type": "code",
   "execution_count": 171,
   "metadata": {},
   "outputs": [
    {
     "data": {
      "text/plain": [
       "False"
      ]
     },
     "execution_count": 171,
     "metadata": {},
     "output_type": "execute_result"
    }
   ],
   "source": [
    "is_on_border(mp, (107, 130))"
   ]
  },
  {
   "cell_type": "code",
   "execution_count": null,
   "metadata": {
    "collapsed": true
   },
   "outputs": [],
   "source": []
  },
  {
   "cell_type": "code",
   "execution_count": 172,
   "metadata": {},
   "outputs": [
    {
     "data": {
      "text/plain": [
       "<matplotlib.image.AxesImage at 0x24337a87128>"
      ]
     },
     "execution_count": 172,
     "metadata": {},
     "output_type": "execute_result"
    },
    {
     "data": {
      "image/png": "[encoded data removed]",
      "text/plain": [
       "<matplotlib.figure.Figure at 0x24292455e80>"
      ]
     },
     "metadata": {},
     "output_type": "display_data"
    }
   ],
   "source": [
    "def build_border_map(mp):\n",
    "    border_mp = np.copy(mp)\n",
    "    for i in range(mp.shape[0]):\n",
    "        for j in range(mp.shape[1]):\n",
    "            if mp[i, j] > 0.0 and not is_on_border(mp, (i, j)):\n",
    "                border_mp[i, j] = 0.0\n",
    "    return border_mp\n",
    "plt.imshow(build_border_map(mp))"
   ]
  },
  {
   "cell_type": "code",
   "execution_count": 173,
   "metadata": {},
   "outputs": [
    {
     "data": {
      "text/plain": [
       "136"
      ]
     },
     "execution_count": 173,
     "metadata": {},
     "output_type": "execute_result"
    }
   ],
   "source": [
    "def traverse_border(border_map, border_path, current, prev):\n",
    "    next_border_pos = []\n",
    "    border_path.append(current)\n",
    "    found_next = False\n",
    "    new_pos = None\n",
    "    for di in range(-1, 2):\n",
    "        if found_next:\n",
    "            break\n",
    "        for dj in range(-1, 2):\n",
    "            new_pos = (current[0] + di, current[1] + dj)\n",
    "            if border_map[current[0] + di, current[1] + dj] == 1.0:\n",
    "                found_next = True\n",
    "                if not new_pos in border_path:\n",
    "                    break\n",
    "    \n",
    "    #print (current)\n",
    "    prev = current\n",
    "    current = new_pos\n",
    "\n",
    "    if found_next:\n",
    "        traverse_border(border_map, border_path, current, prev)\n",
    "    return border_path\n",
    "                    \n",
    "def build_border_path(border_map):\n",
    "    lowest_ub = get_min_x_unblocked(border_map)\n",
    "    path = []\n",
    "    border_path = traverse_border(border_map, path, lowest_ub, None)\n",
    "    return border_path\n",
    "\n",
    "bpath = build_border_path(build_border_map(mp))\n",
    "len(bpath)"
   ]
  },
  {
   "cell_type": "code",
   "execution_count": 174,
   "metadata": {},
   "outputs": [
    {
     "data": {
      "text/plain": [
       "<matplotlib.image.AxesImage at 0x24337ae4fd0>"
      ]
     },
     "execution_count": 174,
     "metadata": {},
     "output_type": "execute_result"
    },
    {
     "data": {
      "image/png": "[encoded data removed]",
      "text/plain": [
       "<matplotlib.figure.Figure at 0x24337a21320>"
      ]
     },
     "metadata": {},
     "output_type": "display_data"
    }
   ],
   "source": [
    "border_path_map = np.zeros(mp.shape)\n",
    "for pos in bpath:\n",
    "    border_path_map[pos[0], pos[1]] = 1.0\n",
    "    \n",
    "plt.imshow(border_path_map)"
   ]
  },
  {
   "cell_type": "code",
   "execution_count": 175,
   "metadata": {},
   "outputs": [],
   "source": [
    "DIST_FROM_WALL = 2\n",
    "\n",
    "def median_path(mp, left_right = True):\n",
    "    lmeans = []\n",
    "    rmeans = []\n",
    "    border_mp = np.copy(mp)\n",
    "    for i in range(mp.shape[0]):\n",
    "        start = None\n",
    "        end = None\n",
    "        inside = False\n",
    "        for j in range(mp.shape[1]):\n",
    "            if left_right == True:\n",
    "                pos = (i, j)\n",
    "            else:\n",
    "                pos = (j, i)\n",
    "            if mp[pos] == 1.0 and not inside:\n",
    "                inside = True\n",
    "                start = j\n",
    "            if mp[pos] == 0.0 and inside:\n",
    "                inside = False\n",
    "                end = j\n",
    "            if start != None and end != None:\n",
    "                wh = start + DIST_FROM_WALL\n",
    "                if left_right == True:\n",
    "                    new_pos = (i, wh)\n",
    "                else:\n",
    "                    new_pos = (wh, i)\n",
    "                if mp[new_pos] == 1.0:\n",
    "                    lmeans.append(new_pos)\n",
    "                \n",
    "                wh = end - DIST_FROM_WALL\n",
    "                if left_right == True:\n",
    "                    new_pos = (i, wh)\n",
    "                else:\n",
    "                    new_pos = (wh, i)\n",
    "                if mp[new_pos] == 1.0:\n",
    "                    rmeans.append(new_pos)\n",
    "                \n",
    "                start = None\n",
    "                end = None\n",
    "    return lmeans + rmeans\n",
    "\n",
    "lrmedians = median_path(mp)\n",
    "upmedians = median_path(mp, False)\n",
    "\n",
    "medians = lrmedians + upmedians"
   ]
  },
  {
   "cell_type": "code",
   "execution_count": 177,
   "metadata": {},
   "outputs": [],
   "source": [
    "def median_path(mp, left_right = True):\n",
    "    lmeans = []\n",
    "    rmeans = []\n",
    "    for i in range(mp.shape[0]):\n",
    "        start = None\n",
    "        end = None\n",
    "        inside = False\n",
    "        for j in range(mp.shape[1]):\n",
    "            if left_right == True:\n",
    "                pos = (i, j)\n",
    "            else:\n",
    "                pos = (j, i)\n",
    "            if mp[pos] == 1.0 and not inside:\n",
    "                inside = True\n",
    "                start = j\n",
    "            if mp[pos] == 0.0 and inside:\n",
    "                inside = False\n",
    "                end = j\n",
    "            if start != None and end != None:\n",
    "                #wh = start + DIST_FROM_WALL\n",
    "                wh = int((start + end)/2)\n",
    "                if left_right == True:\n",
    "                    new_pos = (i, wh)\n",
    "                else:\n",
    "                    new_pos = (wh, i)\n",
    "                if mp[new_pos] == 1.0:\n",
    "                    lmeans.append(new_pos)\n",
    "                \n",
    "#                wh = end - DIST_FROM_WALL\n",
    "#                if left_right == True:\n",
    "#                    new_pos = (i, wh)\n",
    "#                else:\n",
    "#                    new_pos = (wh, i)\n",
    "#                if mp[new_pos] == 1.0:\n",
    "#                    rmeans.append(new_pos)\n",
    "                \n",
    "                start = None\n",
    "                end = None\n",
    "    return lmeans + rmeans\n",
    "lrmedians = median_path(mp)\n",
    "upmedians = median_path(mp, False)\n",
    "\n",
    "medians = lrmedians + upmedians"
   ]
  },
  {
   "cell_type": "code",
   "execution_count": 178,
   "metadata": {},
   "outputs": [
    {
     "data": {
      "text/plain": [
       "<matplotlib.image.AxesImage at 0x24337b68390>"
      ]
     },
     "execution_count": 178,
     "metadata": {},
     "output_type": "execute_result"
    },
    {
     "data": {
      "image/png": "[encoded data removed]",
      "text/plain": [
       "<matplotlib.figure.Figure at 0x24337b1ff60>"
      ]
     },
     "metadata": {},
     "output_type": "display_data"
    }
   ],
   "source": [
    "median_path_map = np.zeros(mp.shape)\n",
    "\n",
    "median_path_map.fill(255)\n",
    "\n",
    "for i in range(median_path_map.shape[0]):\n",
    "    for j in range(median_path_map.shape[1]):\n",
    "        if is_on_border(mp, (i, j)):\n",
    "            median_path_map[i, j] = 100\n",
    "for pos in medians:\n",
    "    median_path_map[pos[0], pos[1]] = 1\n",
    "\n",
    "plt.imshow(median_path_map)"
   ]
  },
  {
   "cell_type": "code",
   "execution_count": 17,
   "metadata": {},
   "outputs": [
    {
     "data": {
      "text/plain": [
       "<matplotlib.image.AxesImage at 0x24290dae198>"
      ]
     },
     "execution_count": 17,
     "metadata": {},
     "output_type": "execute_result"
    },
    {
     "data": {
      "image/png": "[encoded data removed]",
      "text/plain": [
       "<matplotlib.figure.Figure at 0x24290d5fa58>"
      ]
     },
     "metadata": {},
     "output_type": "display_data"
    }
   ],
   "source": [
    "plt.imshow(build_border_map(mp))"
   ]
  },
  {
   "cell_type": "code",
   "execution_count": 160,
   "metadata": {},
   "outputs": [
    {
     "name": "stdout",
     "output_type": "stream",
     "text": [
      "not visited 4\n",
      "path length 744\n"
     ]
    }
   ],
   "source": [
    "MIN_DIST_TO_MOVE = 3\n",
    "\n",
    "def distance(pos1, pos2):\n",
    "    return np.sqrt(np.square(pos1[0] - pos2[0]) + np.square(pos1[1] - pos2[1]))\n",
    "\n",
    "def sign_changes(start, end, new_pos):\n",
    "    sc = 0\n",
    "    if np.sign(new_pos[0] - end[0]) != np.sign(end[0] - start[0]):\n",
    "        sc += 1\n",
    "    if np.sign(new_pos[1] - end[1]) != np.sign(end[1] - start[1]):\n",
    "        sc += 1\n",
    "    return sc\n",
    "\n",
    "def find_min_not_visited(prev, pos, not_visited):\n",
    "    min_dist = None\n",
    "    min_pos = None\n",
    "    min_sc = None\n",
    "    for sc in range(3):\n",
    "        for to in not_visited:\n",
    "            dc = sign_changes(prev, pos, to)\n",
    "            dist = distance(pos, to)\n",
    "            if min_dist == None or (dc == sc and dist < min_dist and dist > MIN_DIST_TO_MOVE):\n",
    "                min_dist = dist\n",
    "                min_pos = to\n",
    "                min_sc = dc\n",
    "        if min_dist != None and min_dist < 20:\n",
    "            break\n",
    "    if min_dist != None and min_dist < 50:\n",
    "        #print(min_dist, prev, pos, min_pos, min_sc)\n",
    "        return min_pos\n",
    "    else:\n",
    "        return None\n",
    "\n",
    "def greedy_path(current_path):\n",
    "    #visited = set([])\n",
    "    new_path = []\n",
    "    not_visited = set(current_path)\n",
    "    current = current_path[0]\n",
    "    prev = current\n",
    "    while current != None and current in not_visited:\n",
    "        not_visited.discard(current)\n",
    "        new_path.append(current)\n",
    "        prev = current\n",
    "        current = find_min_not_visited(prev, current, not_visited)\n",
    "    print('not visited', len(not_visited))\n",
    "    return new_path\n",
    "\n",
    "apath = greedy_path(medians)\n",
    "print('path length', len(apath))"
   ]
  },
  {
   "cell_type": "code",
   "execution_count": 161,
   "metadata": {},
   "outputs": [],
   "source": [
    "def create_path_images(path):\n",
    "    path_images = []\n",
    "    mp_3d = np.dstack((mp*0, mp*100, mp*0)).astype(np.float)\n",
    "\n",
    "    for i in range(len(path)):\n",
    "        new_mp = np.copy(mp_3d)\n",
    "        for j in range(i):\n",
    "            median = path[j]\n",
    "            new_mp[median[0], median[1], 0] = 255\n",
    "            new_mp[median[0], median[1], 1] = 0\n",
    "            new_mp[median[0], median[1], 2] = 255\n",
    "        path_images.append(new_mp)\n",
    "    return path_images\n",
    "\n",
    "path_images = create_path_images(apath)"
   ]
  },
  {
   "cell_type": "code",
   "execution_count": 162,
   "metadata": {},
   "outputs": [
    {
     "name": "stdout",
     "output_type": "stream",
     "text": [
      "[MoviePy] >>>> Building video ../output/test_path.mp4\n",
      "[MoviePy] Writing video ../output/test_path.mp4\n"
     ]
    },
    {
     "name": "stderr",
     "output_type": "stream",
     "text": [
      "100%|███████████████████████████████████████████████████████████████████████████████████████████████████████████████████████████████████████████████████████████████████████████████████████████████████████| 745/745 [00:00<00:00, 905.07it/s]\n"
     ]
    },
    {
     "name": "stdout",
     "output_type": "stream",
     "text": [
      "[MoviePy] Done.\n",
      "[MoviePy] >>>> Video ready: ../output/test_path.mp4 \n",
      "\n",
      "Wall time: 879 ms\n"
     ]
    }
   ],
   "source": [
    "# Import everything needed to edit/save/watch video clips\n",
    "from moviepy.editor import VideoFileClip\n",
    "from moviepy.editor import ImageSequenceClip\n",
    "\n",
    "# Define pathname to save the output video\n",
    "output = '../output/test_path.mp4'\n",
    "clip = ImageSequenceClip(path_images, fps=60) # Note: output video will be sped up because \n",
    "# recording rate in simulator is fps=25\n",
    "%time clip.write_videofile(output, audio=False)"
   ]
  },
  {
   "cell_type": "code",
   "execution_count": 159,
   "metadata": {},
   "outputs": [
    {
     "data": {
      "text/html": [
       "<video alt=\"test\" controls>\n",
       "                <source src=\"data:video/mp4;base64,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\" type=\"video/mp4\" />\n",
       "             </video>"
      ],
      "text/plain": [
       "<IPython.core.display.HTML object>"
      ]
     },
     "execution_count": 159,
     "metadata": {},
     "output_type": "execute_result"
    }
   ],
   "source": [
    "from IPython.display import HTML\n",
    "import io\n",
    "import base64\n",
    "video = io.open(output, 'r+b').read()\n",
    "encoded_video = base64.b64encode(video)\n",
    "HTML(data='''<video alt=\"test\" controls>\n",
    "                <source src=\"data:video/mp4;base64,{0}\" type=\"video/mp4\" />\n",
    "             </video>'''.format(encoded_video.decode('ascii')))"
   ]
  },
  {
   "cell_type": "code",
   "execution_count": 106,
   "metadata": {
    "collapsed": true
   },
   "outputs": [],
   "source": [
    "# Define a function to apply a rotation to pixel positions\n",
    "def rotate_pix(xpix, ypix, yaw):\n",
    "    yaw_rad = yaw * np.pi / 180\n",
    "    xpix_rotated = xpix * np.cos(yaw_rad) - ypix * np.sin(yaw_rad)\n",
    "    ypix_rotated = xpix * np.sin(yaw_rad) + ypix * np.cos(yaw_rad)\n",
    "    # Return the result  \n",
    "    return xpix_rotated, ypix_rotated\n",
    "\n",
    "# Define a function to perform a translation\n",
    "def translate_pix(xpix_rot, ypix_rot, xpos, ypos, scale): \n",
    "    # Perform translation and convert to integer since pixel values can't be float\n",
    "    xpix_translated = np.int_(xpos + (xpix_rot / scale))\n",
    "    ypix_translated = np.int_(ypos + (ypix_rot / scale))\n",
    "    # Return the result  \n",
    "    return xpix_translated, ypix_translated\n",
    "\n",
    "# Define a function to apply rotation and translation (and clipping)\n",
    "# Once you define the two functions above this function should work\n",
    "def pix_to_world(xpix, ypix, xpos, ypos, yaw, world_size=200, scale=10):\n",
    "    # Apply rotation\n",
    "    xpix_rot, ypix_rot = rotate_pix(xpix, ypix, yaw)\n",
    "    # Apply translation\n",
    "    xpix_tran, ypix_tran = translate_pix(xpix_rot, ypix_rot, xpos, ypos, scale)\n",
    "    # Perform rotation, translation and clipping all at once\n",
    "    x_pix_world = np.clip(np.int_(xpix_tran), 0, world_size - 1)\n",
    "    y_pix_world = np.clip(np.int_(ypix_tran), 0, world_size - 1)\n",
    "    # Return the result\n",
    "    return x_pix_world, y_pix_world\n"
   ]
  },
  {
   "cell_type": "code",
   "execution_count": 155,
   "metadata": {},
   "outputs": [
    {
     "name": "stdout",
     "output_type": "stream",
     "text": [
      "(107, 104)\n",
      "world origin -1158.45593068 -811.159575345\n",
      "123.43384005 83.8396513029\n",
      "75.8824698175 27.2369376838\n",
      "(75.882469817531728, 27.236937683803262)\n"
     ]
    }
   ],
   "source": [
    "# Define a function to apply rotation and translation (and clipping)\n",
    "# Once you define the two functions above this function should work\n",
    "def world_to_pix(xw, yw, xpos, ypos, yaw, rover_size=2000, scale=0.1):\n",
    "    xwo = int(-xpos/scale)\n",
    "    ywo = int(-ypos/scale)\n",
    "    xwo, ywo = rotate_pix(xwo, ywo, -yaw)\n",
    "    print('world origin', xwo, ywo)\n",
    "    # Apply rotation\n",
    "    xw_rot, yw_rot = rotate_pix(xw, yw, -yaw)\n",
    "    print(xw_rot, yw_rot)\n",
    "    # Apply translation\n",
    "    xw_tran = xwo + xw_rot/scale\n",
    "    yw_tran = ywo + yw_rot/scale\n",
    "    #xw_tran, yw_tran = translate_pix(xw_rot, yw_rot, xwo, ywo, scale)\n",
    "    print(xw_tran, yw_tran)\n",
    "    \n",
    "    return xw_tran, yw_tran\n",
    "\n",
    "pos = (85, 35)\n",
    "world = pix_to_world(pos[0], pos[1], 100, 100, 10)\n",
    "print(world)\n",
    "\n",
    "print(world_to_pix(world[0], world[1], 100, 100, 10))"
   ]
  },
  {
   "cell_type": "code",
   "execution_count": 153,
   "metadata": {},
   "outputs": [
    {
     "data": {
      "text/plain": [
       "(0, 0)"
      ]
     },
     "execution_count": 153,
     "metadata": {},
     "output_type": "execute_result"
    }
   ],
   "source": [
    "pix_to_world(-1158.45593068, -811.159575345, 100, 100, 10)"
   ]
  },
  {
   "cell_type": "code",
   "execution_count": 137,
   "metadata": {},
   "outputs": [
    {
     "data": {
      "text/plain": [
       "array([[ 0.,  0.],\n",
       "       [ 0.,  0.],\n",
       "       [ 0.,  0.],\n",
       "       [ 0.,  0.],\n",
       "       [ 0.,  0.]])"
      ]
     },
     "execution_count": 137,
     "metadata": {},
     "output_type": "execute_result"
    }
   ],
   "source": [
    "x = np.zeros((5, 2))\n",
    "x"
   ]
  },
  {
   "cell_type": "code",
   "execution_count": 145,
   "metadata": {
    "collapsed": true
   },
   "outputs": [],
   "source": [
    "x[0] = (6, 5)"
   ]
  },
  {
   "cell_type": "code",
   "execution_count": 146,
   "metadata": {},
   "outputs": [
    {
     "data": {
      "text/plain": [
       "array([[ 6.,  5.],\n",
       "       [ 0.,  0.],\n",
       "       [ 0.,  0.],\n",
       "       [ 0.,  0.],\n",
       "       [ 0.,  0.]])"
      ]
     },
     "execution_count": 146,
     "metadata": {},
     "output_type": "execute_result"
    }
   ],
   "source": [
    "x"
   ]
  },
  {
   "cell_type": "code",
   "execution_count": 163,
   "metadata": {},
   "outputs": [
    {
     "data": {
      "text/plain": [
       "-1"
      ]
     },
     "execution_count": 163,
     "metadata": {},
     "output_type": "execute_result"
    }
   ],
   "source": [
    "np.sign(-10)"
   ]
  },
  {
   "cell_type": "code",
   "execution_count": null,
   "metadata": {
    "collapsed": true
   },
   "outputs": [],
   "source": []
  }
 ],
 "metadata": {
  "anaconda-cloud": {},
  "kernel_info": {
   "name": "python3"
  },
  "kernelspec": {
   "display_name": "Python 3",
   "language": "python",
   "name": "python3"
  },
  "language_info": {
   "codemirror_mode": {
    "name": "ipython",
    "version": 3
   },
   "file_extension": ".py",
   "mimetype": "text/x-python",
   "name": "python",
   "nbconvert_exporter": "python",
   "pygments_lexer": "ipython3",
   "version": "3.5.2"
  },
  "widgets": {
   "state": {},
   "version": "1.1.2"
  }
 },
 "nbformat": 4,
 "nbformat_minor": 1
}
