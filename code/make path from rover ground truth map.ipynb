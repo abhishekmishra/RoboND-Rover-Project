{
 "cells": [
  {
   "cell_type": "code",
   "execution_count": 1,
   "metadata": {
    "collapsed": true,
    "outputExpanded": false
   },
   "outputs": [],
   "source": [
    "%matplotlib inline\n",
    "#%matplotlib qt # Choose %matplotlib qt to plot to an interactive window (note it may show up behind your browser)\n",
    "# Make some of the relevant imports\n",
    "import cv2 # OpenCV for perspective transform\n",
    "import numpy as np\n",
    "import matplotlib.image as mpimg\n",
    "import matplotlib.pyplot as plt\n",
    "import scipy.misc # For saving images as needed\n",
    "import glob  # For reading in a list of images from a folder"
   ]
  },
  {
   "cell_type": "code",
   "execution_count": 2,
   "metadata": {
    "collapsed": true
   },
   "outputs": [],
   "source": [
    "# Read in ground truth map and create a 3-channel image with it\n",
    "ground_truth = mpimg.imread('../calibration_images/map_bw.png')\n",
    "ground_truth_3d = np.dstack((ground_truth*0, ground_truth*255, ground_truth*0)).astype(np.float)\n",
    "mp = ground_truth"
   ]
  },
  {
   "cell_type": "code",
   "execution_count": 3,
   "metadata": {},
   "outputs": [
    {
     "data": {
      "text/plain": [
       "<matplotlib.image.AxesImage at 0x2428ef2bb70>"
      ]
     },
     "execution_count": 3,
     "metadata": {},
     "output_type": "execute_result"
    },
    {
     "data": {
      "image/png": "[encoded data removed]",
      "text/plain": [
       "<matplotlib.figure.Figure at 0x2428e0a8b00>"
      ]
     },
     "metadata": {},
     "output_type": "display_data"
    }
   ],
   "source": [
    "plt.imshow(mp)"
   ]
  },
  {
   "cell_type": "code",
   "execution_count": 4,
   "metadata": {},
   "outputs": [
    {
     "data": {
      "text/plain": [
       "(200, 200)"
      ]
     },
     "execution_count": 4,
     "metadata": {},
     "output_type": "execute_result"
    }
   ],
   "source": [
    "mp.shape"
   ]
  },
  {
   "cell_type": "code",
   "execution_count": 5,
   "metadata": {},
   "outputs": [
    {
     "name": "stdout",
     "output_type": "stream",
     "text": [
      "(191, 103)\n"
     ]
    }
   ],
   "source": [
    "#min x which is unblocked\n",
    "def get_min_x_unblocked(mp):\n",
    "    for i in range(199, -1, -1):\n",
    "        for j in range(199, -1, -1):\n",
    "            if mp[i, j] > 0.0:\n",
    "                return i, j\n",
    "lowest_ub = get_min_x_unblocked(mp)\n",
    "print(lowest_ub)"
   ]
  },
  {
   "cell_type": "code",
   "execution_count": 6,
   "metadata": {},
   "outputs": [
    {
     "data": {
      "text/plain": [
       "True"
      ]
     },
     "execution_count": 6,
     "metadata": {},
     "output_type": "execute_result"
    }
   ],
   "source": [
    "def is_on_border(mp, pos):\n",
    "    for di in range(-1, 2):\n",
    "        for dj in range(-1, 2):\n",
    "            if mp[pos[0] + di, pos[1] + dj] == 0.0:\n",
    "                return True\n",
    "    return False\n",
    "is_on_border(mp, lowest_ub)"
   ]
  },
  {
   "cell_type": "code",
   "execution_count": 7,
   "metadata": {},
   "outputs": [
    {
     "data": {
      "text/plain": [
       "False"
      ]
     },
     "execution_count": 7,
     "metadata": {},
     "output_type": "execute_result"
    }
   ],
   "source": [
    "is_on_border(mp, (107, 130))"
   ]
  },
  {
   "cell_type": "code",
   "execution_count": null,
   "metadata": {
    "collapsed": true
   },
   "outputs": [],
   "source": []
  },
  {
   "cell_type": "code",
   "execution_count": 8,
   "metadata": {},
   "outputs": [
    {
     "data": {
      "text/plain": [
       "<matplotlib.image.AxesImage at 0x24290b5fb38>"
      ]
     },
     "execution_count": 8,
     "metadata": {},
     "output_type": "execute_result"
    },
    {
     "data": {
      "image/png": "[encoded data removed]",
      "text/plain": [
       "<matplotlib.figure.Figure at 0x2428e826b70>"
      ]
     },
     "metadata": {},
     "output_type": "display_data"
    }
   ],
   "source": [
    "def build_border_map(mp):\n",
    "    border_mp = np.copy(mp)\n",
    "    for i in range(mp.shape[0]):\n",
    "        for j in range(mp.shape[1]):\n",
    "            if mp[i, j] > 0.0 and not is_on_border(mp, (i, j)):\n",
    "                border_mp[i, j] = 0.0\n",
    "    return border_mp\n",
    "plt.imshow(build_border_map(mp))"
   ]
  },
  {
   "cell_type": "code",
   "execution_count": 11,
   "metadata": {},
   "outputs": [
    {
     "data": {
      "text/plain": [
       "136"
      ]
     },
     "execution_count": 11,
     "metadata": {},
     "output_type": "execute_result"
    }
   ],
   "source": [
    "def traverse_border(border_map, border_path, current, prev):\n",
    "    next_border_pos = []\n",
    "    border_path.append(current)\n",
    "    found_next = False\n",
    "    new_pos = None\n",
    "    for di in range(-1, 2):\n",
    "        if found_next:\n",
    "            break\n",
    "        for dj in range(-1, 2):\n",
    "            new_pos = (current[0] + di, current[1] + dj)\n",
    "            if border_map[current[0] + di, current[1] + dj] == 1.0:\n",
    "                found_next = True\n",
    "                if not new_pos in border_path:\n",
    "                    break\n",
    "    \n",
    "    #print (current)\n",
    "    prev = current\n",
    "    current = new_pos\n",
    "\n",
    "    if found_next:\n",
    "        traverse_border(border_map, border_path, current, prev)\n",
    "    return border_path\n",
    "                    \n",
    "def build_border_path(border_map):\n",
    "    lowest_ub = get_min_x_unblocked(border_map)\n",
    "    path = []\n",
    "    border_path = traverse_border(border_map, path, lowest_ub, None)\n",
    "    return border_path\n",
    "\n",
    "bpath = build_border_path(build_border_map(mp))\n",
    "len(bpath)"
   ]
  },
  {
   "cell_type": "code",
   "execution_count": 12,
   "metadata": {},
   "outputs": [
    {
     "data": {
      "text/plain": [
       "<matplotlib.image.AxesImage at 0x24290c44400>"
      ]
     },
     "execution_count": 12,
     "metadata": {},
     "output_type": "execute_result"
    },
    {
     "data": {
      "image/png": "[encoded data removed]",
      "text/plain": [
       "<matplotlib.figure.Figure at 0x24290bebef0>"
      ]
     },
     "metadata": {},
     "output_type": "display_data"
    }
   ],
   "source": [
    "border_path_map = np.zeros(mp.shape)\n",
    "for pos in bpath:\n",
    "    border_path_map[pos[0], pos[1]] = 1.0\n",
    "    \n",
    "plt.imshow(border_path_map)"
   ]
  },
  {
   "cell_type": "code",
   "execution_count": 46,
   "metadata": {},
   "outputs": [],
   "source": [
    "DIST_FROM_WALL = 2\n",
    "\n",
    "def median_path(mp, left_right = True):\n",
    "    lmeans = []\n",
    "    rmeans = []\n",
    "    border_mp = np.copy(mp)\n",
    "    for i in range(mp.shape[0]):\n",
    "        start = None\n",
    "        end = None\n",
    "        inside = False\n",
    "        for j in range(mp.shape[1]):\n",
    "            if left_right == True:\n",
    "                pos = (i, j)\n",
    "            else:\n",
    "                pos = (j, i)\n",
    "            if mp[pos] == 1.0 and not inside:\n",
    "                inside = True\n",
    "                start = j\n",
    "            if mp[pos] == 0.0 and inside:\n",
    "                inside = False\n",
    "                end = j\n",
    "            if start != None and end != None:\n",
    "                wh = start + DIST_FROM_WALL\n",
    "                if left_right == True:\n",
    "                    new_pos = (i, wh)\n",
    "                else:\n",
    "                    new_pos = (wh, i)\n",
    "                if mp[new_pos] == 1.0:\n",
    "                    lmeans.append(new_pos)\n",
    "                \n",
    "                wh = end - DIST_FROM_WALL\n",
    "                if left_right == True:\n",
    "                    new_pos = (i, wh)\n",
    "                else:\n",
    "                    new_pos = (wh, i)\n",
    "                if mp[new_pos] == 1.0:\n",
    "                    rmeans.append(new_pos)\n",
    "                \n",
    "                start = None\n",
    "                end = None\n",
    "    return lmeans + rmeans\n",
    "\n",
    "lrmedians = median_path(mp)\n",
    "upmedians = median_path(mp, False)\n",
    "\n",
    "medians = lrmedians + upmedians"
   ]
  },
  {
   "cell_type": "code",
   "execution_count": 47,
   "metadata": {},
   "outputs": [
    {
     "data": {
      "text/plain": [
       "<matplotlib.image.AxesImage at 0x242924b3908>"
      ]
     },
     "execution_count": 47,
     "metadata": {},
     "output_type": "execute_result"
    },
    {
     "data": {
      "image/png": "[encoded data removed]",
      "text/plain": [
       "<matplotlib.figure.Figure at 0x242922c28d0>"
      ]
     },
     "metadata": {},
     "output_type": "display_data"
    }
   ],
   "source": [
    "median_path_map = np.zeros(mp.shape)\n",
    "\n",
    "median_path_map.fill(255)\n",
    "\n",
    "for i in range(median_path_map.shape[0]):\n",
    "    for j in range(median_path_map.shape[1]):\n",
    "        if is_on_border(mp, (i, j)):\n",
    "            median_path_map[i, j] = 100\n",
    "for pos in medians:\n",
    "    median_path_map[pos[0], pos[1]] = 1\n",
    "\n",
    "plt.imshow(median_path_map)"
   ]
  },
  {
   "cell_type": "code",
   "execution_count": 17,
   "metadata": {},
   "outputs": [
    {
     "data": {
      "text/plain": [
       "<matplotlib.image.AxesImage at 0x24290dae198>"
      ]
     },
     "execution_count": 17,
     "metadata": {},
     "output_type": "execute_result"
    },
    {
     "data": {
      "image/png": "[encoded data removed]",
      "text/plain": [
       "<matplotlib.figure.Figure at 0x24290d5fa58>"
      ]
     },
     "metadata": {},
     "output_type": "display_data"
    }
   ],
   "source": [
    "plt.imshow(build_border_map(mp))"
   ]
  },
  {
   "cell_type": "code",
   "execution_count": 105,
   "metadata": {},
   "outputs": [
    {
     "name": "stdout",
     "output_type": "stream",
     "text": [
      "not visited 280\n",
      "path length 468\n"
     ]
    }
   ],
   "source": [
    "def distance(pos1, pos2):\n",
    "    return np.sqrt(np.square(pos1[0] - pos2[0]) + np.square(pos1[1] - pos2[1]))\n",
    "\n",
    "def sign_changes(start, end, new_pos):\n",
    "    sc = 0\n",
    "    if np.sign(new_pos[0] - end[0]) != np.sign(end[0] - start[0]):\n",
    "        sc += 1\n",
    "    if np.sign(new_pos[1] - end[1]) != np.sign(end[1] - start[1]):\n",
    "        sc += 1\n",
    "    return sc\n",
    "\n",
    "def find_min_not_visited(prev, pos, not_visited):\n",
    "    min_dist = None\n",
    "    min_pos = None\n",
    "    min_sc = None\n",
    "    for sc in range(3):\n",
    "        for to in not_visited:\n",
    "            dc = sign_changes(prev, pos, to)\n",
    "            dist = distance(pos, to)\n",
    "            if min_dist == None or (dc == sc and dist < min_dist and dist > 1):\n",
    "                min_dist = dist\n",
    "                min_pos = to\n",
    "                min_sc = dc\n",
    "        if min_dist != None and min_dist < 5:\n",
    "            break\n",
    "    if min_dist != None and min_dist < 30:\n",
    "        #print(min_dist, prev, pos, min_pos, min_sc)\n",
    "        return min_pos\n",
    "    else:\n",
    "        return None\n",
    "\n",
    "def greedy_path(current_path):\n",
    "    #visited = set([])\n",
    "    new_path = []\n",
    "    not_visited = set(current_path)\n",
    "    current = current_path[0]\n",
    "    prev = current\n",
    "    while current != None and current in not_visited:\n",
    "        not_visited.discard(current)\n",
    "        new_path.append(current)\n",
    "        prev = current\n",
    "        current = find_min_not_visited(prev, current, not_visited)\n",
    "    print('not visited', len(not_visited))\n",
    "    return new_path\n",
    "\n",
    "apath = greedy_path(medians)\n",
    "print('path length', len(apath))"
   ]
  },
  {
   "cell_type": "code",
   "execution_count": 103,
   "metadata": {},
   "outputs": [],
   "source": [
    "def create_path_images(path):\n",
    "    path_images = []\n",
    "    mp_3d = np.dstack((mp*0, mp*100, mp*0)).astype(np.float)\n",
    "\n",
    "    for i in range(len(path)):\n",
    "        new_mp = np.copy(mp_3d)\n",
    "        for j in range(i):\n",
    "            median = path[j]\n",
    "            new_mp[median[0], median[1], 0] = 255\n",
    "            new_mp[median[0], median[1], 1] = 0\n",
    "            new_mp[median[0], median[1], 2] = 255\n",
    "        path_images.append(new_mp)\n",
    "    return path_images\n",
    "\n",
    "path_images = create_path_images(apath)"
   ]
  },
  {
   "cell_type": "code",
   "execution_count": 104,
   "metadata": {},
   "outputs": [
    {
     "name": "stdout",
     "output_type": "stream",
     "text": [
      "[MoviePy] >>>> Building video ../output/test_path.mp4\n",
      "[MoviePy] Writing video ../output/test_path.mp4\n"
     ]
    },
    {
     "name": "stderr",
     "output_type": "stream",
     "text": [
      "100%|██████████████████████████████████████████████████████████████████████████████████████████████████████████████████████████████████████████████████████████████████████████████████████████████████████| 468/468 [00:00<00:00, 1081.37it/s]\n"
     ]
    },
    {
     "name": "stdout",
     "output_type": "stream",
     "text": [
      "[MoviePy] Done.\n",
      "[MoviePy] >>>> Video ready: ../output/test_path.mp4 \n",
      "\n",
      "Wall time: 499 ms\n"
     ]
    }
   ],
   "source": [
    "# Import everything needed to edit/save/watch video clips\n",
    "from moviepy.editor import VideoFileClip\n",
    "from moviepy.editor import ImageSequenceClip\n",
    "\n",
    "# Define pathname to save the output video\n",
    "output = '../output/test_path.mp4'\n",
    "clip = ImageSequenceClip(path_images, fps=60) # Note: output video will be sped up because \n",
    "# recording rate in simulator is fps=25\n",
    "%time clip.write_videofile(output, audio=False)"
   ]
  },
  {
   "cell_type": "code",
   "execution_count": 100,
   "metadata": {},
   "outputs": [
    {
     "data": {
      "text/html": [
       "<video alt=\"test\" controls>\n",
       "                <source src=\"data:video/mp4;base64,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\" type=\"video/mp4\" />\n",
       "             </video>"
      ],
      "text/plain": [
       "<IPython.core.display.HTML object>"
      ]
     },
     "execution_count": 100,
     "metadata": {},
     "output_type": "execute_result"
    }
   ],
   "source": [
    "from IPython.display import HTML\n",
    "import io\n",
    "import base64\n",
    "video = io.open(output, 'r+b').read()\n",
    "encoded_video = base64.b64encode(video)\n",
    "HTML(data='''<video alt=\"test\" controls>\n",
    "                <source src=\"data:video/mp4;base64,{0}\" type=\"video/mp4\" />\n",
    "             </video>'''.format(encoded_video.decode('ascii')))"
   ]
  },
  {
   "cell_type": "code",
   "execution_count": null,
   "metadata": {
    "collapsed": true
   },
   "outputs": [],
   "source": []
  }
 ],
 "metadata": {
  "anaconda-cloud": {},
  "kernel_info": {
   "name": "python3"
  },
  "kernelspec": {
   "display_name": "Python 3",
   "language": "python",
   "name": "python3"
  },
  "language_info": {
   "codemirror_mode": {
    "name": "ipython",
    "version": 3
   },
   "file_extension": ".py",
   "mimetype": "text/x-python",
   "name": "python",
   "nbconvert_exporter": "python",
   "pygments_lexer": "ipython3",
   "version": "3.5.2"
  },
  "widgets": {
   "state": {},
   "version": "1.1.2"
  }
 },
 "nbformat": 4,
 "nbformat_minor": 1
}
